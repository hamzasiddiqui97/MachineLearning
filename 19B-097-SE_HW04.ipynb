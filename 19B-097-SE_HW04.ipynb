{
 "cells": [
  {
   "cell_type": "code",
   "execution_count": 41,
   "metadata": {},
   "outputs": [],
   "source": [
    "#!/usr/bin/env python\n",
    "# coding: utf-8"
   ]
  },
  {
   "cell_type": "markdown",
   "metadata": {},
   "source": [
    "# TASK 01:"
   ]
  },
  {
   "cell_type": "markdown",
   "metadata": {},
   "source": [
    "In[1]:"
   ]
  },
  {
   "cell_type": "code",
   "execution_count": 53,
   "metadata": {},
   "outputs": [],
   "source": [
    "import numpy as np\n",
    "import pandas as pd\n",
    "import matplotlib.pyplot as plt\n",
    "from sklearn.feature_selection import mutual_info_classif"
   ]
  },
  {
   "cell_type": "markdown",
   "metadata": {},
   "source": [
    "In[2]:"
   ]
  },
  {
   "cell_type": "code",
   "execution_count": 54,
   "metadata": {},
   "outputs": [
    {
     "data": {
      "text/plain": [
       "<AxesSubplot:>"
      ]
     },
     "execution_count": 54,
     "metadata": {},
     "output_type": "execute_result"
    },
    {
     "data": {
      "image/png": "[encoded data removed]",
      "text/plain": [
       "<Figure size 432x288 with 1 Axes>"
      ]
     },
     "metadata": {
      "needs_background": "light"
     },
     "output_type": "display_data"
    }
   ],
   "source": [
    "dataset = pd.read_csv('MIFClaimABTFull.csv')\n",
    "dataset = dataset.replace('CI', 0)\n",
    "dataset = dataset.replace('Married', 0)\n",
    "dataset = dataset.replace('Single', 1)\n",
    "dataset = dataset.replace('Divorced', 2)\n",
    "dataset = dataset.replace('Soft Tissue', 0)\n",
    "dataset =  dataset.replace('Back', 1)\n",
    "dataset = dataset.replace('Broken Limb', 2)\n",
    "dataset = dataset.replace('Serious', 3)\n",
    "dataset = dataset.replace('No', 0)\n",
    "dataset = dataset.replace('Yes', 1)\n",
    "dataset.fillna(0, inplace = True)\n",
    "X = dataset[['MaritalStatus','InjuryType','OvernightHospitalStay',\n",
    "             'NumClaimants','TotalClaimed','NumClaims','NumSoftTissue','%SoftTissue','ClaimAmountReceived']]\n",
    "y = dataset['FraudFlag']\n",
    "importance = mutual_info_classif(X , y)\n",
    "feat_importance = pd.Series(importance, ['MaritalStatus','InjuryType',\n",
    "                                         'OvernightHospitalStay','NumClaimants','TotalClaimed',\n",
    "                                         'NumClaims','NumSoftTissue','%SoftTissue','ClaimAmountReceived'])\n",
    "feat_importance.plot ( kind ='barh', color ='teal')"
   ]
  },
  {
   "cell_type": "markdown",
   "metadata": {},
   "source": [
    "# TASK 2:"
   ]
  },
  {
   "cell_type": "markdown",
   "metadata": {},
   "source": [
    "In[3]:"
   ]
  },
  {
   "cell_type": "code",
   "execution_count": 55,
   "metadata": {},
   "outputs": [
    {
     "data": {
      "text/html": [
       "<div>\n",
       "<style scoped>\n",
       "    .dataframe tbody tr th:only-of-type {\n",
       "        vertical-align: middle;\n",
       "    }\n",
       "\n",
       "    .dataframe tbody tr th {\n",
       "        vertical-align: top;\n",
       "    }\n",
       "\n",
       "    .dataframe thead th {\n",
       "        text-align: right;\n",
       "    }\n",
       "</style>\n",
       "<table border=\"1\" class=\"dataframe\">\n",
       "  <thead>\n",
       "    <tr style=\"text-align: right;\">\n",
       "      <th></th>\n",
       "      <th>Pregnancies</th>\n",
       "      <th>Glucose</th>\n",
       "      <th>BloodPressure</th>\n",
       "      <th>SkinThickness</th>\n",
       "      <th>Insulin</th>\n",
       "      <th>BMI</th>\n",
       "      <th>DiabetesPedigreeFunction</th>\n",
       "      <th>Age</th>\n",
       "      <th>Outcome</th>\n",
       "    </tr>\n",
       "  </thead>\n",
       "  <tbody>\n",
       "    <tr>\n",
       "      <th>0</th>\n",
       "      <td>6</td>\n",
       "      <td>148</td>\n",
       "      <td>72</td>\n",
       "      <td>35</td>\n",
       "      <td>0</td>\n",
       "      <td>33.6</td>\n",
       "      <td>0.627</td>\n",
       "      <td>50</td>\n",
       "      <td>1</td>\n",
       "    </tr>\n",
       "    <tr>\n",
       "      <th>1</th>\n",
       "      <td>1</td>\n",
       "      <td>85</td>\n",
       "      <td>66</td>\n",
       "      <td>29</td>\n",
       "      <td>0</td>\n",
       "      <td>26.6</td>\n",
       "      <td>0.351</td>\n",
       "      <td>31</td>\n",
       "      <td>0</td>\n",
       "    </tr>\n",
       "    <tr>\n",
       "      <th>2</th>\n",
       "      <td>8</td>\n",
       "      <td>183</td>\n",
       "      <td>64</td>\n",
       "      <td>0</td>\n",
       "      <td>0</td>\n",
       "      <td>23.3</td>\n",
       "      <td>0.672</td>\n",
       "      <td>32</td>\n",
       "      <td>1</td>\n",
       "    </tr>\n",
       "    <tr>\n",
       "      <th>3</th>\n",
       "      <td>1</td>\n",
       "      <td>89</td>\n",
       "      <td>66</td>\n",
       "      <td>23</td>\n",
       "      <td>94</td>\n",
       "      <td>28.1</td>\n",
       "      <td>0.167</td>\n",
       "      <td>21</td>\n",
       "      <td>0</td>\n",
       "    </tr>\n",
       "    <tr>\n",
       "      <th>4</th>\n",
       "      <td>0</td>\n",
       "      <td>137</td>\n",
       "      <td>40</td>\n",
       "      <td>35</td>\n",
       "      <td>168</td>\n",
       "      <td>43.1</td>\n",
       "      <td>2.288</td>\n",
       "      <td>33</td>\n",
       "      <td>1</td>\n",
       "    </tr>\n",
       "  </tbody>\n",
       "</table>\n",
       "</div>"
      ],
      "text/plain": [
       "   Pregnancies  Glucose  BloodPressure  SkinThickness  Insulin   BMI  \\\n",
       "0            6      148             72             35        0  33.6   \n",
       "1            1       85             66             29        0  26.6   \n",
       "2            8      183             64              0        0  23.3   \n",
       "3            1       89             66             23       94  28.1   \n",
       "4            0      137             40             35      168  43.1   \n",
       "\n",
       "   DiabetesPedigreeFunction  Age  Outcome  \n",
       "0                     0.627   50        1  \n",
       "1                     0.351   31        0  \n",
       "2                     0.672   32        1  \n",
       "3                     0.167   21        0  \n",
       "4                     2.288   33        1  "
      ]
     },
     "execution_count": 55,
     "metadata": {},
     "output_type": "execute_result"
    }
   ],
   "source": [
    "import pandas as pd\n",
    "churn_df = pd.read_csv('diabetes.csv')\n",
    "churn_df.head()\n",
    "churn_df_sel = churn_df.loc[:,['Pregnancies', 'Glucose', 'BloodPressure', 'SkinThickness', 'Insulin', 'BMI', 'DiabetesPedigreeFunction', 'Age', 'Outcome']]\n",
    "churn_df_sel.head()"
   ]
  },
  {
   "cell_type": "markdown",
   "metadata": {},
   "source": [
    "In[4]:"
   ]
  },
  {
   "cell_type": "code",
   "execution_count": 56,
   "metadata": {},
   "outputs": [],
   "source": [
    "from sklearn . feature_selection import chi2\n",
    "X = churn_df_sel.drop ('Outcome', axis =1)\n",
    "y = churn_df_sel ['Outcome']"
   ]
  },
  {
   "cell_type": "code",
   "execution_count": 57,
   "metadata": {},
   "outputs": [
    {
     "data": {
      "text/plain": [
       "(array([ 111.51969064, 1411.88704064,   17.60537322,   53.10803984,\n",
       "        2175.56527292,  127.66934333,    5.39268155,  181.30368904]),\n",
       " array([4.55261043e-026, 5.48728628e-309, 2.71819252e-005, 3.15697650e-013,\n",
       "        0.00000000e+000, 1.32590849e-029, 2.02213728e-002, 2.51638830e-041]))"
      ]
     },
     "execution_count": 57,
     "metadata": {},
     "output_type": "execute_result"
    }
   ],
   "source": [
    "chi_scores = chi2 (X , y )\n",
    "chi_scores"
   ]
  },
  {
   "cell_type": "markdown",
   "metadata": {},
   "source": [
    "In[5]:"
   ]
  },
  {
   "cell_type": "code",
   "execution_count": 58,
   "metadata": {},
   "outputs": [
    {
     "name": "stdout",
     "output_type": "stream",
     "text": [
      "Pregnancies                  4.552610e-26\n",
      "Glucose                     5.487286e-309\n",
      "BloodPressure                2.718193e-05\n",
      "SkinThickness                3.156977e-13\n",
      "Insulin                      0.000000e+00\n",
      "BMI                          1.325908e-29\n",
      "DiabetesPedigreeFunction     2.022137e-02\n",
      "Age                          2.516388e-41\n",
      "dtype: float64\n"
     ]
    }
   ],
   "source": [
    "p_values = pd.Series(chi_scores[1], index= X.columns)\n",
    "print(p_values [:])\n",
    "p_values .sort_values(ascending=True, inplace=True)"
   ]
  },
  {
   "cell_type": "markdown",
   "metadata": {},
   "source": [
    "In[6]:"
   ]
  },
  {
   "cell_type": "code",
   "execution_count": 59,
   "metadata": {},
   "outputs": [
    {
     "data": {
      "text/plain": [
       "array([[148. ,   0. ,  33.6,  50. ],\n",
       "       [ 85. ,   0. ,  26.6,  31. ],\n",
       "       [183. ,   0. ,  23.3,  32. ],\n",
       "       ...,\n",
       "       [121. , 112. ,  26.2,  30. ],\n",
       "       [126. ,   0. ,  30.1,  47. ],\n",
       "       [ 93. ,   0. ,  30.4,  23. ]])"
      ]
     },
     "execution_count": 59,
     "metadata": {},
     "output_type": "execute_result"
    }
   ],
   "source": [
    "from sklearn.feature_selection import SelectKBest\n",
    "from sklearn.feature_selection import SelectPercentile\n",
    "feature_names = ['Pregnancies', 'Glucose', 'BloodPressure', 'SkinThickness', 'Insulin', 'BMI', 'DiabetesPedigreeFunction', 'Age', 'Outcome']\n",
    "X_new = SelectPercentile(chi2, percentile=50) \n",
    "X_new.fit_transform(X,y)"
   ]
  },
  {
   "cell_type": "markdown",
   "metadata": {},
   "source": [
    "In[7]:"
   ]
  },
  {
   "cell_type": "code",
   "execution_count": 60,
   "metadata": {},
   "outputs": [
    {
     "data": {
      "text/plain": [
       "array([[148.,   0.,  50.],\n",
       "       [ 85.,   0.,  31.],\n",
       "       [183.,   0.,  32.],\n",
       "       ...,\n",
       "       [121., 112.,  30.],\n",
       "       [126.,   0.,  47.],\n",
       "       [ 93.,   0.,  23.]])"
      ]
     },
     "execution_count": 60,
     "metadata": {},
     "output_type": "execute_result"
    }
   ],
   "source": [
    "from sklearn . feature_selection import SelectKBest\n",
    "from sklearn . feature_selection import SelectPercentile\n",
    "feature_names = ['Pregnancies', 'Glucose', 'BloodPressure', 'SkinThickness', 'Insulin', 'BMI', 'DiabetesPedigreeFunction', 'Age', 'Outcome']\n",
    "X_new = SelectKBest (chi2 , k = 3)\n",
    "X_new.fit_transform (X , y )"
   ]
  },
  {
   "cell_type": "markdown",
   "metadata": {},
   "source": [
    "In[8]:"
   ]
  },
  {
   "cell_type": "code",
   "execution_count": 61,
   "metadata": {},
   "outputs": [
    {
     "data": {
      "text/plain": [
       "['Glucose', 'Insulin', 'Age']"
      ]
     },
     "execution_count": 61,
     "metadata": {},
     "output_type": "execute_result"
    }
   ],
   "source": [
    "new_features = []\n",
    "mask = X_new.get_support ()\n",
    "for bool, feature in zip(mask, feature_names):\n",
    "    if bool:\n",
    "        new_features.append(feature)\n",
    "new_features"
   ]
  },
  {
   "cell_type": "markdown",
   "metadata": {},
   "source": [
    "# TASK 03:"
   ]
  },
  {
   "cell_type": "markdown",
   "metadata": {},
   "source": [
    "In[9]:"
   ]
  },
  {
   "cell_type": "code",
   "execution_count": 62,
   "metadata": {},
   "outputs": [
    {
     "data": {
      "text/html": [
       "<div>\n",
       "<style scoped>\n",
       "    .dataframe tbody tr th:only-of-type {\n",
       "        vertical-align: middle;\n",
       "    }\n",
       "\n",
       "    .dataframe tbody tr th {\n",
       "        vertical-align: top;\n",
       "    }\n",
       "\n",
       "    .dataframe thead th {\n",
       "        text-align: right;\n",
       "    }\n",
       "</style>\n",
       "<table border=\"1\" class=\"dataframe\">\n",
       "  <thead>\n",
       "    <tr style=\"text-align: right;\">\n",
       "      <th></th>\n",
       "      <th>ID</th>\n",
       "      <th>InsuranceType</th>\n",
       "      <th>IncomeofPolicyHolder</th>\n",
       "      <th>MaritalStatus</th>\n",
       "      <th>NumClaimants</th>\n",
       "      <th>InjuryType</th>\n",
       "      <th>OvernightHospitalStay</th>\n",
       "      <th>ClaimAmount</th>\n",
       "      <th>TotalClaimed</th>\n",
       "      <th>NumClaims</th>\n",
       "      <th>NumSoftTissue</th>\n",
       "      <th>%SoftTissue</th>\n",
       "      <th>ClaimAmountReceived</th>\n",
       "      <th>FraudFlag</th>\n",
       "    </tr>\n",
       "  </thead>\n",
       "  <tbody>\n",
       "    <tr>\n",
       "      <th>0</th>\n",
       "      <td>1</td>\n",
       "      <td>CI</td>\n",
       "      <td>0</td>\n",
       "      <td>NaN</td>\n",
       "      <td>2</td>\n",
       "      <td>Soft Tissue</td>\n",
       "      <td>No</td>\n",
       "      <td>1625</td>\n",
       "      <td>3250</td>\n",
       "      <td>2</td>\n",
       "      <td>2.0</td>\n",
       "      <td>1.0</td>\n",
       "      <td>0</td>\n",
       "      <td>1</td>\n",
       "    </tr>\n",
       "    <tr>\n",
       "      <th>1</th>\n",
       "      <td>2</td>\n",
       "      <td>CI</td>\n",
       "      <td>0</td>\n",
       "      <td>NaN</td>\n",
       "      <td>2</td>\n",
       "      <td>Back</td>\n",
       "      <td>Yes</td>\n",
       "      <td>15028</td>\n",
       "      <td>60112</td>\n",
       "      <td>1</td>\n",
       "      <td>0.0</td>\n",
       "      <td>0.0</td>\n",
       "      <td>15028</td>\n",
       "      <td>0</td>\n",
       "    </tr>\n",
       "    <tr>\n",
       "      <th>2</th>\n",
       "      <td>3</td>\n",
       "      <td>CI</td>\n",
       "      <td>54613</td>\n",
       "      <td>Married</td>\n",
       "      <td>1</td>\n",
       "      <td>Broken Limb</td>\n",
       "      <td>No</td>\n",
       "      <td>-99999</td>\n",
       "      <td>0</td>\n",
       "      <td>0</td>\n",
       "      <td>0.0</td>\n",
       "      <td>0.0</td>\n",
       "      <td>572</td>\n",
       "      <td>0</td>\n",
       "    </tr>\n",
       "    <tr>\n",
       "      <th>3</th>\n",
       "      <td>4</td>\n",
       "      <td>CI</td>\n",
       "      <td>0</td>\n",
       "      <td>NaN</td>\n",
       "      <td>3</td>\n",
       "      <td>Serious</td>\n",
       "      <td>Yes</td>\n",
       "      <td>270200</td>\n",
       "      <td>0</td>\n",
       "      <td>0</td>\n",
       "      <td>0.0</td>\n",
       "      <td>0.0</td>\n",
       "      <td>270200</td>\n",
       "      <td>0</td>\n",
       "    </tr>\n",
       "    <tr>\n",
       "      <th>4</th>\n",
       "      <td>5</td>\n",
       "      <td>CI</td>\n",
       "      <td>0</td>\n",
       "      <td>NaN</td>\n",
       "      <td>4</td>\n",
       "      <td>Soft Tissue</td>\n",
       "      <td>No</td>\n",
       "      <td>8869</td>\n",
       "      <td>0</td>\n",
       "      <td>0</td>\n",
       "      <td>0.0</td>\n",
       "      <td>0.0</td>\n",
       "      <td>0</td>\n",
       "      <td>1</td>\n",
       "    </tr>\n",
       "  </tbody>\n",
       "</table>\n",
       "</div>"
      ],
      "text/plain": [
       "   ID InsuranceType   IncomeofPolicyHolder MaritalStatus  NumClaimants  \\\n",
       "0   1             CI                     0           NaN             2   \n",
       "1   2             CI                     0           NaN             2   \n",
       "2   3             CI                 54613       Married             1   \n",
       "3   4             CI                     0           NaN             3   \n",
       "4   5             CI                     0           NaN             4   \n",
       "\n",
       "    InjuryType OvernightHospitalStay  ClaimAmount  TotalClaimed  NumClaims  \\\n",
       "0  Soft Tissue                    No         1625          3250          2   \n",
       "1         Back                   Yes        15028         60112          1   \n",
       "2  Broken Limb                    No       -99999             0          0   \n",
       "3      Serious                   Yes       270200             0          0   \n",
       "4  Soft Tissue                    No         8869             0          0   \n",
       "\n",
       "   NumSoftTissue  %SoftTissue  ClaimAmountReceived  FraudFlag  \n",
       "0            2.0          1.0                    0          1  \n",
       "1            0.0          0.0                15028          0  \n",
       "2            0.0          0.0                  572          0  \n",
       "3            0.0          0.0               270200          0  \n",
       "4            0.0          0.0                    0          1  "
      ]
     },
     "execution_count": 62,
     "metadata": {},
     "output_type": "execute_result"
    }
   ],
   "source": [
    "df = pd.read_csv('MIFClaimABTFull.csv')\n",
    "df.head()"
   ]
  },
  {
   "cell_type": "markdown",
   "metadata": {},
   "source": [
    "In[10]:"
   ]
  },
  {
   "cell_type": "code",
   "execution_count": 63,
   "metadata": {},
   "outputs": [
    {
     "ename": "ModuleNotFoundError",
     "evalue": "No module named 'skfeature'",
     "output_type": "error",
     "traceback": [
      "\u001b[1;31m---------------------------------------------------------------------------\u001b[0m",
      "\u001b[1;31mModuleNotFoundError\u001b[0m                       Traceback (most recent call last)",
      "Input \u001b[1;32mIn [63]\u001b[0m, in \u001b[0;36m<cell line: 1>\u001b[1;34m()\u001b[0m\n\u001b[1;32m----> 1\u001b[0m \u001b[38;5;28;01mfrom\u001b[39;00m \u001b[38;5;21;01mskfeature\u001b[39;00m\u001b[38;5;21;01m.\u001b[39;00m\u001b[38;5;21;01mfunction\u001b[39;00m\u001b[38;5;21;01m.\u001b[39;00m\u001b[38;5;21;01msimilarity_based\u001b[39;00m \u001b[38;5;28;01mimport\u001b[39;00m fisher_score\n\u001b[0;32m      2\u001b[0m \u001b[38;5;28;01mfrom\u001b[39;00m \u001b[38;5;21;01msklearn\u001b[39;00m\u001b[38;5;21;01m.\u001b[39;00m\u001b[38;5;21;01mpreprocessing\u001b[39;00m \u001b[38;5;28;01mimport\u001b[39;00m LabelEncoder\n\u001b[0;32m      3\u001b[0m \u001b[38;5;28;01mimport\u001b[39;00m \u001b[38;5;21;01mmatplotlib\u001b[39;00m\u001b[38;5;21;01m.\u001b[39;00m\u001b[38;5;21;01mpyplot\u001b[39;00m \u001b[38;5;28;01mas\u001b[39;00m \u001b[38;5;21;01mplt\u001b[39;00m\n",
      "\u001b[1;31mModuleNotFoundError\u001b[0m: No module named 'skfeature'"
     ]
    }
   ],
   "source": [
    "from skfeature.function.similarity_based import fisher_score\n",
    "from sklearn.preprocessing import LabelEncoder\n",
    "import matplotlib.pyplot as plt\n",
    "data= pd.read_csv('MIFClaimABTFull.csv')\n",
    "df = pd.DataFrame (data)\n",
    "churn_df = df.loc [: ,['ID','IncomeofPolicyHolder','NumClaimants','InjuryType',\n",
    "      'OvernightHospitalStay','ClaimAmount','TotalClaimed','NumClaims','NumSoftTissue','%SoftTissue',\n",
    "                       'ClaimAmountReceived','FraudFlag']]\n",
    "label_encoder = LabelEncoder()\n",
    "churn_df ['NumSoftTissue'] = label_encoder.fit_transform (df['NumSoftTissue'])\n",
    "churn_df ['MaritalStatus'] = label_encoder.fit_transform (df['MaritalStatus'])\n",
    "churn_df ['InjuryType'] = label_encoder.fit_transform (df['InjuryType'])\n",
    "churn_df ['OvernightHospitalStay'] = label_encoder.fit_transform (df['OvernightHospitalStay'])\n",
    "df ['NumSoftTissue'] = label_encoder.fit_transform (df['NumSoftTissue'])\n",
    "X_train = churn_df.drop ('FraudFlag', axis =1)\n",
    "y_train = churn_df['FraudFlag']\n",
    "# calculate score\n",
    "rank = fisher_score.fisher_score(X_train.to_numpy(), y_train.to_numpy(),mode ='rank')\n",
    "# print histogram graph\n",
    "feat_importances = pd . Series(rank)\n",
    "feat_importances.plot( kind ='barh', color ='teal')\n",
    "plt.show()"
   ]
  },
  {
   "cell_type": "markdown",
   "metadata": {},
   "source": [
    "# TASK 4"
   ]
  },
  {
   "cell_type": "markdown",
   "metadata": {},
   "source": [
    "In[11]:"
   ]
  },
  {
   "cell_type": "code",
   "execution_count": 64,
   "metadata": {},
   "outputs": [
    {
     "data": {
      "text/html": [
       "<div>\n",
       "<style scoped>\n",
       "    .dataframe tbody tr th:only-of-type {\n",
       "        vertical-align: middle;\n",
       "    }\n",
       "\n",
       "    .dataframe tbody tr th {\n",
       "        vertical-align: top;\n",
       "    }\n",
       "\n",
       "    .dataframe thead th {\n",
       "        text-align: right;\n",
       "    }\n",
       "</style>\n",
       "<table border=\"1\" class=\"dataframe\">\n",
       "  <thead>\n",
       "    <tr style=\"text-align: right;\">\n",
       "      <th></th>\n",
       "      <th>property_id</th>\n",
       "      <th>location_id</th>\n",
       "      <th>page_url</th>\n",
       "      <th>property_type</th>\n",
       "      <th>price</th>\n",
       "      <th>location</th>\n",
       "      <th>city</th>\n",
       "      <th>province_name</th>\n",
       "      <th>latitude</th>\n",
       "      <th>longitude</th>\n",
       "      <th>baths</th>\n",
       "      <th>area</th>\n",
       "      <th>purpose</th>\n",
       "      <th>bedrooms</th>\n",
       "      <th>date_added</th>\n",
       "      <th>agency</th>\n",
       "      <th>agent</th>\n",
       "    </tr>\n",
       "  </thead>\n",
       "  <tbody>\n",
       "    <tr>\n",
       "      <th>0</th>\n",
       "      <td>347795</td>\n",
       "      <td>8</td>\n",
       "      <td>https://www.zameen.com/Property/lahore_model_t...</td>\n",
       "      <td>House</td>\n",
       "      <td>220000000</td>\n",
       "      <td>Model Town</td>\n",
       "      <td>Lahore</td>\n",
       "      <td>Punjab</td>\n",
       "      <td>31.483869</td>\n",
       "      <td>74.325686</td>\n",
       "      <td>0</td>\n",
       "      <td>6 Kanal</td>\n",
       "      <td>For Sale</td>\n",
       "      <td>0</td>\n",
       "      <td>07-17-2019</td>\n",
       "      <td>Real Biz International</td>\n",
       "      <td>Usama Khan</td>\n",
       "    </tr>\n",
       "    <tr>\n",
       "      <th>1</th>\n",
       "      <td>482892</td>\n",
       "      <td>48</td>\n",
       "      <td>https://www.zameen.com/Property/lahore_multan_...</td>\n",
       "      <td>House</td>\n",
       "      <td>40000000</td>\n",
       "      <td>Multan Road</td>\n",
       "      <td>Lahore</td>\n",
       "      <td>Punjab</td>\n",
       "      <td>31.431593</td>\n",
       "      <td>74.179980</td>\n",
       "      <td>5</td>\n",
       "      <td>1 Kanal</td>\n",
       "      <td>For Sale</td>\n",
       "      <td>5</td>\n",
       "      <td>10-06-2018</td>\n",
       "      <td>Khan Estate</td>\n",
       "      <td>mohsinkhan and B</td>\n",
       "    </tr>\n",
       "    <tr>\n",
       "      <th>2</th>\n",
       "      <td>555962</td>\n",
       "      <td>75</td>\n",
       "      <td>https://www.zameen.com/Property/eden_eden_aven...</td>\n",
       "      <td>House</td>\n",
       "      <td>9500000</td>\n",
       "      <td>Eden</td>\n",
       "      <td>Lahore</td>\n",
       "      <td>Punjab</td>\n",
       "      <td>31.499348</td>\n",
       "      <td>74.416959</td>\n",
       "      <td>0</td>\n",
       "      <td>9 Marla</td>\n",
       "      <td>For Sale</td>\n",
       "      <td>3</td>\n",
       "      <td>07-03-2019</td>\n",
       "      <td>Shahum Estate 2</td>\n",
       "      <td>Babar Hameed, Raja Omar</td>\n",
       "    </tr>\n",
       "    <tr>\n",
       "      <th>3</th>\n",
       "      <td>562843</td>\n",
       "      <td>3821</td>\n",
       "      <td>https://www.zameen.com/Property/gulberg_2_gulb...</td>\n",
       "      <td>House</td>\n",
       "      <td>125000000</td>\n",
       "      <td>Gulberg</td>\n",
       "      <td>Lahore</td>\n",
       "      <td>Punjab</td>\n",
       "      <td>31.522069</td>\n",
       "      <td>74.355512</td>\n",
       "      <td>7</td>\n",
       "      <td>1 Kanal</td>\n",
       "      <td>For Sale</td>\n",
       "      <td>8</td>\n",
       "      <td>04-04-2019</td>\n",
       "      <td>NaN</td>\n",
       "      <td>NaN</td>\n",
       "    </tr>\n",
       "    <tr>\n",
       "      <th>4</th>\n",
       "      <td>686990</td>\n",
       "      <td>3522</td>\n",
       "      <td>https://www.zameen.com/Property/allama_iqbal_t...</td>\n",
       "      <td>House</td>\n",
       "      <td>21000000</td>\n",
       "      <td>Allama Iqbal Town</td>\n",
       "      <td>Lahore</td>\n",
       "      <td>Punjab</td>\n",
       "      <td>31.506483</td>\n",
       "      <td>74.286017</td>\n",
       "      <td>5</td>\n",
       "      <td>11 Marla</td>\n",
       "      <td>For Sale</td>\n",
       "      <td>6</td>\n",
       "      <td>04-04-2019</td>\n",
       "      <td>NaN</td>\n",
       "      <td>NaN</td>\n",
       "    </tr>\n",
       "  </tbody>\n",
       "</table>\n",
       "</div>"
      ],
      "text/plain": [
       "   property_id  location_id  \\\n",
       "0       347795            8   \n",
       "1       482892           48   \n",
       "2       555962           75   \n",
       "3       562843         3821   \n",
       "4       686990         3522   \n",
       "\n",
       "                                            page_url property_type      price  \\\n",
       "0  https://www.zameen.com/Property/lahore_model_t...         House  220000000   \n",
       "1  https://www.zameen.com/Property/lahore_multan_...         House   40000000   \n",
       "2  https://www.zameen.com/Property/eden_eden_aven...         House    9500000   \n",
       "3  https://www.zameen.com/Property/gulberg_2_gulb...         House  125000000   \n",
       "4  https://www.zameen.com/Property/allama_iqbal_t...         House   21000000   \n",
       "\n",
       "            location    city province_name   latitude  longitude  baths  \\\n",
       "0         Model Town  Lahore        Punjab  31.483869  74.325686      0   \n",
       "1        Multan Road  Lahore        Punjab  31.431593  74.179980      5   \n",
       "2               Eden  Lahore        Punjab  31.499348  74.416959      0   \n",
       "3            Gulberg  Lahore        Punjab  31.522069  74.355512      7   \n",
       "4  Allama Iqbal Town  Lahore        Punjab  31.506483  74.286017      5   \n",
       "\n",
       "       area   purpose  bedrooms  date_added                  agency  \\\n",
       "0   6 Kanal  For Sale         0  07-17-2019  Real Biz International   \n",
       "1   1 Kanal  For Sale         5  10-06-2018             Khan Estate   \n",
       "2   9 Marla  For Sale         3  07-03-2019         Shahum Estate 2   \n",
       "3   1 Kanal  For Sale         8  04-04-2019                     NaN   \n",
       "4  11 Marla  For Sale         6  04-04-2019                     NaN   \n",
       "\n",
       "                     agent  \n",
       "0               Usama Khan  \n",
       "1         mohsinkhan and B  \n",
       "2  Babar Hameed, Raja Omar  \n",
       "3                      NaN  \n",
       "4                      NaN  "
      ]
     },
     "execution_count": 64,
     "metadata": {},
     "output_type": "execute_result"
    }
   ],
   "source": [
    "df = pd.read_csv('Property.csv',delimiter=';')\n",
    "df.head()"
   ]
  },
  {
   "cell_type": "code",
   "execution_count": 65,
   "metadata": {},
   "outputs": [
    {
     "data": {
      "text/plain": [
       "<AxesSubplot:>"
      ]
     },
     "execution_count": 65,
     "metadata": {},
     "output_type": "execute_result"
    },
    {
     "data": {
      "image/png": "[encoded data removed]",
      "text/plain": [
       "<Figure size 720x432 with 2 Axes>"
      ]
     },
     "metadata": {
      "needs_background": "light"
     },
     "output_type": "display_data"
    }
   ],
   "source": [
    "import seaborn as sns\n",
    "import matplotlib.pyplot as plt\n",
    "get_ipython().run_line_magic('matplotlib', 'inline')\n",
    "# corelation matrix\n",
    "df = pd.read_csv('Property.csv',delimiter=';')\n",
    "corr = df.corr ()\n",
    "plt.figure (figsize=(10 ,6) )\n",
    "sns.heatmap(corr,annot = True )"
   ]
  },
  {
   "cell_type": "markdown",
   "metadata": {},
   "source": [
    "In[12]:"
   ]
  },
  {
   "cell_type": "code",
   "execution_count": 66,
   "metadata": {},
   "outputs": [
    {
     "data": {
      "text/plain": [
       "array([ True,  True,  True,  True,  True])"
      ]
     },
     "execution_count": 66,
     "metadata": {},
     "output_type": "execute_result"
    }
   ],
   "source": [
    "from sklearn.feature_selection import VarianceThreshold\n",
    "x=df[['baths','bedrooms','latitude','longitude','price']]\n",
    "v_threshold = VarianceThreshold ( threshold =0)\n",
    "v_threshold.fit(x)\n",
    "v_threshold.get_support ()"
   ]
  },
  {
   "cell_type": "markdown",
   "metadata": {},
   "source": [
    "# TASK 5:"
   ]
  },
  {
   "cell_type": "markdown",
   "metadata": {},
   "source": [
    "In[13]:"
   ]
  },
  {
   "cell_type": "code",
   "execution_count": 67,
   "metadata": {},
   "outputs": [
    {
     "name": "stdout",
     "output_type": "stream",
     "text": [
      " Mean absolute deviation of columns : Glucose                     25.181793\n",
      "BloodPressure               12.639425\n",
      "SkinThickness               13.659627\n",
      "Insulin                     84.505079\n",
      "BMI                          5.842270\n",
      "DiabetesPedigreeFunction     0.247309\n",
      "Age                          9.586405\n",
      "dtype: float64\n"
     ]
    }
   ],
   "source": [
    "import pandas as pd\n",
    "import numpy as np\n",
    "data = 'diabetes.csv'\n",
    "df = pd.read_csv(data)\n",
    "df.head ()\n",
    "X = df.iloc[:,1:8]\n",
    "Y = df.iloc[:,8]\n",
    "mad = X.mad(axis=0)\n",
    "print (\" Mean absolute deviation of columns :\", mad)"
   ]
  },
  {
   "cell_type": "markdown",
   "metadata": {},
   "source": [
    "# TASK 06:"
   ]
  },
  {
   "cell_type": "markdown",
   "metadata": {},
   "source": [
    "In[14]:"
   ]
  },
  {
   "cell_type": "code",
   "execution_count": 68,
   "metadata": {},
   "outputs": [
    {
     "ename": "NameError",
     "evalue": "name 'label_encoder' is not defined",
     "output_type": "error",
     "traceback": [
      "\u001b[1;31m---------------------------------------------------------------------------\u001b[0m",
      "\u001b[1;31mNameError\u001b[0m                                 Traceback (most recent call last)",
      "Input \u001b[1;32mIn [68]\u001b[0m, in \u001b[0;36m<cell line: 4>\u001b[1;34m()\u001b[0m\n\u001b[0;32m      2\u001b[0m churn_df \u001b[38;5;241m=\u001b[39m pd\u001b[38;5;241m.\u001b[39mread_csv(data)\n\u001b[0;32m      3\u001b[0m churn_df \u001b[38;5;241m=\u001b[39m churn_df[[\u001b[38;5;124m'\u001b[39m\u001b[38;5;124mGeography\u001b[39m\u001b[38;5;124m'\u001b[39m, \u001b[38;5;124m'\u001b[39m\u001b[38;5;124mGender\u001b[39m\u001b[38;5;124m'\u001b[39m, \u001b[38;5;124m'\u001b[39m\u001b[38;5;124mNumOfProducts\u001b[39m\u001b[38;5;124m'\u001b[39m, \u001b[38;5;124m'\u001b[39m\u001b[38;5;124mHasCrCard\u001b[39m\u001b[38;5;124m'\u001b[39m, \u001b[38;5;124m'\u001b[39m\u001b[38;5;124mIsActiveMember\u001b[39m\u001b[38;5;124m'\u001b[39m,\u001b[38;5;124m'\u001b[39m\u001b[38;5;124mExited\u001b[39m\u001b[38;5;124m'\u001b[39m]]\n\u001b[1;32m----> 4\u001b[0m churn_df [\u001b[38;5;124m'\u001b[39m\u001b[38;5;124mGeography\u001b[39m\u001b[38;5;124m'\u001b[39m] \u001b[38;5;241m=\u001b[39m \u001b[43mlabel_encoder\u001b[49m\u001b[38;5;241m.\u001b[39mfit_transform ( churn_df [\u001b[38;5;124m'\u001b[39m\u001b[38;5;124mGeography\u001b[39m\u001b[38;5;124m'\u001b[39m])\n\u001b[0;32m      5\u001b[0m churn_df [\u001b[38;5;124m'\u001b[39m\u001b[38;5;124mGender\u001b[39m\u001b[38;5;124m'\u001b[39m] \u001b[38;5;241m=\u001b[39m label_encoder\u001b[38;5;241m.\u001b[39mfit_transform ( churn_df [\u001b[38;5;124m'\u001b[39m\u001b[38;5;124mGender\u001b[39m\u001b[38;5;124m'\u001b[39m])\n\u001b[0;32m      6\u001b[0m \u001b[38;5;66;03m# X = churn_df.drop('Exited', axis=1)\u001b[39;00m\n\u001b[0;32m      7\u001b[0m \u001b[38;5;66;03m# Y = churn_df['Exited']\u001b[39;00m\n",
      "\u001b[1;31mNameError\u001b[0m: name 'label_encoder' is not defined"
     ]
    }
   ],
   "source": [
    "data = 'Churn_Modelling.csv'\n",
    "churn_df = pd.read_csv(data)\n",
    "churn_df = churn_df[['Geography', 'Gender', 'NumOfProducts', 'HasCrCard', 'IsActiveMember','Exited']]\n",
    "churn_df ['Geography'] = label_encoder.fit_transform ( churn_df ['Geography'])\n",
    "churn_df ['Gender'] = label_encoder.fit_transform ( churn_df ['Gender'])\n",
    "# X = churn_df.drop('Exited', axis=1)\n",
    "# Y = churn_df['Exited']\n",
    "X = churn_df.iloc[:,1:5]\n",
    "Y = churn_df.iloc[:,5]\n",
    "X = X + 1\n",
    "am = np.mean (X , axis =0)\n",
    "gm = np.power (np.product (X , axis =0) ,1/X.shape [0])\n",
    "# ratio of arithmatic mean and geometric mean\n",
    "disp_ratio = am / gm\n",
    "print(disp_ratio)\n",
    "plt.bar ( np.arange(X.shape[1]) , disp_ratio , color ='teal')"
   ]
  },
  {
   "cell_type": "markdown",
   "metadata": {},
   "source": [
    "In[ ]:"
   ]
  },
  {
   "cell_type": "code",
   "execution_count": null,
   "metadata": {},
   "outputs": [],
   "source": []
  },
  {
   "cell_type": "code",
   "execution_count": null,
   "metadata": {},
   "outputs": [],
   "source": []
  }
 ],
 "metadata": {
  "kernelspec": {
   "display_name": "Python 3 (ipykernel)",
   "language": "python",
   "name": "python3"
  },
  "language_info": {
   "codemirror_mode": {
    "name": "ipython",
    "version": 3
   },
   "file_extension": ".py",
   "mimetype": "text/x-python",
   "name": "python",
   "nbconvert_exporter": "python",
   "pygments_lexer": "ipython3",
   "version": "3.10.4"
  }
 },
 "nbformat": 4,
 "nbformat_minor": 2
}
